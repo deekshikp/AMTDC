{
  "nbformat": 4,
  "nbformat_minor": 0,
  "metadata": {
    "colab": {
      "provenance": []
    },
    "kernelspec": {
      "name": "python3",
      "display_name": "Python 3"
    },
    "language_info": {
      "name": "python"
    }
  },
  "cells": [
    {
      "cell_type": "code",
      "execution_count": null,
      "metadata": {
        "colab": {
          "base_uri": "https://localhost:8080/"
        },
        "id": "2qY4CFHHakkY",
        "outputId": "496eb07c-f4f1-4aa8-eb02-0a4216fb4ee6"
      },
      "outputs": [
        {
          "output_type": "stream",
          "name": "stdout",
          "text": [
            "Collecting aicrowd-cli\n",
            "  Downloading aicrowd_cli-0.1.16-py3-none-any.whl.metadata (1.9 kB)\n",
            "Requirement already satisfied: click in /usr/local/lib/python3.11/dist-packages (from aicrowd-cli) (8.2.1)\n",
            "Requirement already satisfied: GitPython in /usr/local/lib/python3.11/dist-packages (from aicrowd-cli) (3.1.44)\n",
            "Requirement already satisfied: requests in /usr/local/lib/python3.11/dist-packages (from aicrowd-cli) (2.32.3)\n",
            "Requirement already satisfied: requests-toolbelt in /usr/local/lib/python3.11/dist-packages (from aicrowd-cli) (1.0.0)\n",
            "Requirement already satisfied: rich in /usr/local/lib/python3.11/dist-packages (from aicrowd-cli) (13.9.4)\n",
            "Requirement already satisfied: toml in /usr/local/lib/python3.11/dist-packages (from aicrowd-cli) (0.10.2)\n",
            "Requirement already satisfied: tqdm in /usr/local/lib/python3.11/dist-packages (from aicrowd-cli) (4.67.1)\n",
            "Requirement already satisfied: pyzmq in /usr/local/lib/python3.11/dist-packages (from aicrowd-cli) (24.0.1)\n",
            "Requirement already satisfied: python-slugify in /usr/local/lib/python3.11/dist-packages (from aicrowd-cli) (8.0.4)\n",
            "Collecting semver (from aicrowd-cli)\n",
            "  Downloading semver-3.0.4-py3-none-any.whl.metadata (6.8 kB)\n",
            "Requirement already satisfied: gitdb<5,>=4.0.1 in /usr/local/lib/python3.11/dist-packages (from GitPython->aicrowd-cli) (4.0.12)\n",
            "Requirement already satisfied: text-unidecode>=1.3 in /usr/local/lib/python3.11/dist-packages (from python-slugify->aicrowd-cli) (1.3)\n",
            "Requirement already satisfied: charset-normalizer<4,>=2 in /usr/local/lib/python3.11/dist-packages (from requests->aicrowd-cli) (3.4.2)\n",
            "Requirement already satisfied: idna<4,>=2.5 in /usr/local/lib/python3.11/dist-packages (from requests->aicrowd-cli) (3.10)\n",
            "Requirement already satisfied: urllib3<3,>=1.21.1 in /usr/local/lib/python3.11/dist-packages (from requests->aicrowd-cli) (2.5.0)\n",
            "Requirement already satisfied: certifi>=2017.4.17 in /usr/local/lib/python3.11/dist-packages (from requests->aicrowd-cli) (2025.7.14)\n",
            "Requirement already satisfied: markdown-it-py>=2.2.0 in /usr/local/lib/python3.11/dist-packages (from rich->aicrowd-cli) (3.0.0)\n",
            "Requirement already satisfied: pygments<3.0.0,>=2.13.0 in /usr/local/lib/python3.11/dist-packages (from rich->aicrowd-cli) (2.19.2)\n",
            "Requirement already satisfied: smmap<6,>=3.0.1 in /usr/local/lib/python3.11/dist-packages (from gitdb<5,>=4.0.1->GitPython->aicrowd-cli) (5.0.2)\n",
            "Requirement already satisfied: mdurl~=0.1 in /usr/local/lib/python3.11/dist-packages (from markdown-it-py>=2.2.0->rich->aicrowd-cli) (0.1.2)\n",
            "Downloading aicrowd_cli-0.1.16-py3-none-any.whl (50 kB)\n",
            "\u001b[2K   \u001b[90m━━━━━━━━━━━━━━━━━━━━━━━━━━━━━━━━━━━━━━━━\u001b[0m \u001b[32m51.0/51.0 kB\u001b[0m \u001b[31m2.0 MB/s\u001b[0m eta \u001b[36m0:00:00\u001b[0m\n",
            "\u001b[?25hDownloading semver-3.0.4-py3-none-any.whl (17 kB)\n",
            "Installing collected packages: semver, aicrowd-cli\n",
            "Successfully installed aicrowd-cli-0.1.16 semver-3.0.4\n"
          ]
        }
      ],
      "source": [
        "!pip install -U aicrowd-cli"
      ]
    },
    {
      "cell_type": "code",
      "source": [
        "import sys, os, distutils.core\n",
        "from IPython.display import clear_output\n",
        "\n",
        "!python -m pip install pyyaml==5.1\n",
        "!git clone 'https://github.com/facebookresearch/detectron2'\n",
        "dist = distutils.core.run_setup(\"./detectron2/setup.py\")\n",
        "!python -m pip install {' '.join([f\"'{x}'\" for x in dist.install_requires])}\n",
        "sys.path.insert(0, os.path.abspath('./detectron2'))\n",
        "clear_output()"
      ],
      "metadata": {
        "id": "kxgcL-8sbMIZ"
      },
      "execution_count": null,
      "outputs": []
    },
    {
      "cell_type": "code",
      "source": [
        "# # Installing Detectron2\n",
        "import torch\n",
        "import detectron2\n",
        "print(detectron2.__version__)"
      ],
      "metadata": {
        "colab": {
          "base_uri": "https://localhost:8080/"
        },
        "id": "cpwaj-E-cKTG",
        "outputId": "460160df-0dbd-4254-8d4b-e67e0c7781f2"
      },
      "execution_count": null,
      "outputs": [
        {
          "output_type": "stream",
          "name": "stdout",
          "text": [
            "0.6\n"
          ]
        }
      ]
    }
  ]
}